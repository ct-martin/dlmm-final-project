{
 "cells": [
  {
   "cell_type": "code",
   "execution_count": 2,
   "metadata": {},
   "outputs": [],
   "source": [
    "import pandas as pd\n",
    "\n",
    "df_train = pd.read_csv(\"ids_train.csv\")\n",
    "df_test = pd.read_csv(\"ids_test.csv\")\n"
   ]
  },
  {
   "cell_type": "code",
   "execution_count": 3,
   "metadata": {},
   "outputs": [],
   "source": [
    "media_ids = pd.concat([df_train['media_id'], df_test['media_id']])\n"
   ]
  },
  {
   "cell_type": "code",
   "execution_count": 4,
   "metadata": {},
   "outputs": [
    {
     "data": {
      "text/plain": [
       "0          CHSDM-8189_03-000003\n",
       "1    CHSDM-8DBFC50975AC2-000001\n",
       "2    CHSDM-13188AFC094E2-000001\n",
       "3      CHSDM-1994-64-3MattFlynn\n",
       "4                CHSDM-19151_08\n",
       "Name: media_id, dtype: object"
      ]
     },
     "execution_count": 4,
     "metadata": {},
     "output_type": "execute_result"
    }
   ],
   "source": [
    "media_ids.head()\n"
   ]
  },
  {
   "cell_type": "code",
   "execution_count": 5,
   "metadata": {},
   "outputs": [
    {
     "name": "stdout",
     "output_type": "stream",
     "text": [
      "['CHSDM-8189_03-000003', 'CHSDM-8DBFC50975AC2-000001', 'CHSDM-13188AFC094E2-000001', 'CHSDM-1994-64-3MattFlynn', 'CHSDM-19151_08', 'CHSDM-30238AE1A8482-000001', 'CHSDM-90F8F3D5FAE62_02-000001', 'CHSDM-57706_01-000001', 'CHSDM-7311044C4B522-000001', 'CHSDM-AE720DA886DD2-000001']\n"
     ]
    }
   ],
   "source": [
    "media_ids_list = media_ids.to_list()\n",
    "print(media_ids_list[:10])\n"
   ]
  },
  {
   "cell_type": "code",
   "execution_count": 6,
   "metadata": {},
   "outputs": [],
   "source": [
    "del df_train\n",
    "del df_test\n",
    "del media_ids\n"
   ]
  },
  {
   "cell_type": "code",
   "execution_count": 7,
   "metadata": {},
   "outputs": [],
   "source": [
    "files = []\n",
    "\n",
    "with open('si-media.txt') as file:\n",
    "  for line in file:\n",
    "    files.append(line.strip())\n"
   ]
  },
  {
   "cell_type": "code",
   "execution_count": 8,
   "metadata": {},
   "outputs": [
    {
     "name": "stdout",
     "output_type": "stream",
     "text": [
      "['CHSDM-0001EEF7E7212-000001.jpg', 'CHSDM-0004053C60912-000001.jpg', 'CHSDM-00045DB4E9E42-000004.jpg', 'CHSDM-0004ED05D9DC2-000001.jpg', 'CHSDM-00052ED07D672-000001.jpg', 'CHSDM-000561336A7D2-000001.jpg', 'CHSDM-00060D782CCC2-000001.jpg', 'CHSDM-0006442BECCA2-000001.jpg', 'CHSDM-000A7A153F032-000001.jpg', 'CHSDM-000CA4B66C882-000001.jpg']\n"
     ]
    }
   ],
   "source": [
    "print(files[:10])\n"
   ]
  },
  {
   "cell_type": "code",
   "execution_count": 9,
   "metadata": {},
   "outputs": [
    {
     "name": "stdout",
     "output_type": "stream",
     "text": [
      "Missing: 0\n"
     ]
    }
   ],
   "source": [
    "# Find ids not in files list\n",
    "missing = []\n",
    "for id in media_ids_list:\n",
    "  if f\"{id}.jpg\" not in files:\n",
    "    #print(\"Not found:\",id)\n",
    "    missing.append(id)\n",
    "print(\"Missing:\",len(missing))\n"
   ]
  },
  {
   "cell_type": "code",
   "execution_count": 10,
   "metadata": {},
   "outputs": [],
   "source": [
    "del files\n"
   ]
  },
  {
   "cell_type": "code",
   "execution_count": 11,
   "metadata": {},
   "outputs": [
    {
     "name": "stdout",
     "output_type": "stream",
     "text": [
      "Num Images: 20138\n"
     ]
    }
   ],
   "source": [
    "num_images = len(media_ids_list)-len(missing)\n",
    "print(\"Num Images:\", num_images)\n"
   ]
  },
  {
   "cell_type": "code",
   "execution_count": 13,
   "metadata": {},
   "outputs": [],
   "source": [
    "import json\n",
    "\n",
    "with open('si-download.json','w') as file:\n",
    "    json.dump(media_ids_list, file)\n"
   ]
  }
 ],
 "metadata": {
  "kernelspec": {
   "display_name": "Python 3",
   "language": "python",
   "name": "python3"
  },
  "language_info": {
   "codemirror_mode": {
    "name": "ipython",
    "version": 3
   },
   "file_extension": ".py",
   "mimetype": "text/x-python",
   "name": "python",
   "nbconvert_exporter": "python",
   "pygments_lexer": "ipython3",
   "version": "3.10.12"
  }
 },
 "nbformat": 4,
 "nbformat_minor": 2
}
