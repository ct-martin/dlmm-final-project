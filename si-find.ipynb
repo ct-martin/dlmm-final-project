{
 "cells": [
  {
   "cell_type": "code",
   "execution_count": 1,
   "metadata": {},
   "outputs": [],
   "source": [
    "import datetime\n",
    "import json\n",
    "import os\n",
    "import re\n"
   ]
  },
  {
   "cell_type": "code",
   "execution_count": 2,
   "metadata": {},
   "outputs": [
    {
     "name": "stdout",
     "output_type": "stream",
     "text": [
      "Started: 2023-11-14 02:49:35.949382\n"
     ]
    }
   ],
   "source": [
    "startTime = datetime.datetime.now()\n",
    "print(\"Started: \" + str(startTime))\n",
    "\n",
    "stepTime = datetime.datetime.now()\n"
   ]
  },
  {
   "cell_type": "code",
   "execution_count": 3,
   "metadata": {},
   "outputs": [],
   "source": [
    "def printStepTime(text):\n",
    "    global stepTime\n",
    "    endTime = datetime.datetime.now()\n",
    "    print(\"Finished \" + text + \": \" + str(endTime) + \", took \" + str(endTime - stepTime))\n",
    "    stepTime = endTime\n"
   ]
  },
  {
   "cell_type": "code",
   "execution_count": 4,
   "metadata": {},
   "outputs": [],
   "source": [
    "count = 0\n",
    "desc = 0\n",
    "media = 0\n",
    "desc_media = 0\n",
    "desc_lens = []\n"
   ]
  },
  {
   "cell_type": "code",
   "execution_count": 5,
   "metadata": {},
   "outputs": [],
   "source": [
    "for file in os.listdir(\"data/chndm/\"):\n",
    "    if file == \"index.txt\":\n",
    "        continue\n",
    "    with open(\"data/chndm/\" + file) as ndjson:\n",
    "        for line in ndjson:\n",
    "            #data = ujson.loads(line)\n",
    "            data = json.loads(line)\n",
    "            count += 1\n",
    "            hasDesc = False\n",
    "            hasMedia = False\n",
    "            if 'content' in data:\n",
    "                if 'descriptiveNonRepeating' in data['content']:\n",
    "                    if 'online_media' in data['content']['descriptiveNonRepeating']:\n",
    "                        if 'media' in data['content']['descriptiveNonRepeating']['online_media']:\n",
    "                            if len(data['content']['descriptiveNonRepeating']['online_media']['media']) > 0:\n",
    "                                hasMedia = True\n",
    "                                media += 1\n",
    "                if 'freetext' in data['content']:\n",
    "                    if 'notes' in data['content']['freetext']:\n",
    "                        for text in data['content']['freetext']['notes']:\n",
    "                            if text['label'] == \"Description\":\n",
    "                                desc_lens.append(len(text['content']))\n",
    "                                hasDesc = True\n",
    "                        if hasDesc == True:\n",
    "                            desc += 1\n",
    "            if hasDesc == True and hasMedia == True:\n",
    "                desc_media += 1\n"
   ]
  },
  {
   "cell_type": "code",
   "execution_count": 6,
   "metadata": {},
   "outputs": [
    {
     "name": "stdout",
     "output_type": "stream",
     "text": [
      "Desc:  40770 / 43809\n",
      "Media: 43258 / 43809\n",
      "Both:  40241 / 43809\n"
     ]
    }
   ],
   "source": [
    "print(\"Desc: \",desc, \"/\", count)\n",
    "print(\"Media:\",media, \"/\", count)\n",
    "print(\"Both: \",desc_media, \"/\", count)\n"
   ]
  },
  {
   "cell_type": "code",
   "execution_count": 7,
   "metadata": {},
   "outputs": [
    {
     "data": {
      "image/png": "[encoded data removed]",
      "text/plain": [
       "<Figure size 640x480 with 1 Axes>"
      ]
     },
     "metadata": {},
     "output_type": "display_data"
    }
   ],
   "source": [
    "import matplotlib.pyplot as plt\n",
    "plt.hist(desc_lens, bins=20)\n",
    "plt.show()\n"
   ]
  },
  {
   "cell_type": "code",
   "execution_count": 8,
   "metadata": {},
   "outputs": [
    {
     "data": {
      "image/png": "[encoded data removed]",
      "text/plain": [
       "<Figure size 640x480 with 1 Axes>"
      ]
     },
     "metadata": {},
     "output_type": "display_data"
    }
   ],
   "source": [
    "import matplotlib.pyplot as plt\n",
    "plt.hist(desc_lens, bins=20, range=(0,500))\n",
    "plt.show()\n"
   ]
  },
  {
   "cell_type": "code",
   "execution_count": 9,
   "metadata": {},
   "outputs": [],
   "source": [
    "files = []\n",
    "\n",
    "with open('si-media.txt') as file:\n",
    "  for line in file:\n",
    "    files.append(line.strip())\n"
   ]
  },
  {
   "cell_type": "markdown",
   "metadata": {},
   "source": [
    "## Picking records\n",
    "This will add a record to the list if it meets the following conditions:\n",
    "* Part of the Cooper Hewitt unit\n",
    "* Has a Description that is 120-400 characters long and does not contain \" / \"\n",
    "* Has a JPEG media file that's licensed under CC0, both dimensions are >1000px, and we know exists\n",
    "\n",
    "Rationale:\n",
    "* We know Cooper Hewitt has made a concerted effort to improve Descriptions\n",
    "* Descriptions containing \" / \" typically contain other tombstone data (such as credit lines), which do not describe the image and are not desired\n",
    "* We want Descriptions that are about 2-4x as long as NoCaps\n",
    "  * Descriptions in the NoCaps dataset are typically 45-70 characters long (or 30-100 if you want to use a slightly looser range)\n",
    "  * Using 120-400 as a range gets to about 2-4x that and from a quick viewing of the data looks to get reasonable Descriptions\n",
    "* Only using JPEG files since they're significantly smaller than TIFFs\n",
    "* Only use CC0 media to avoid copyright issues\n",
    "* Only use images with large enough dimensions to be of note\n",
    "  * Using 1000px in each dimension as a simple filter\n",
    "* Only use images we know the files exist for\n",
    "  * There are a few IDs that didn't match files, but some of them have other media which we can match\n",
    "  * (This could be due to the file name having other stuff in it or using .jpeg instead of .jpg, for example)\n",
    "* All of these constraints help reduce the total dataset size\n",
    "  * Cooper Hewitt has ~770GB of JPG images in the bucket; we don't want to have to download all of that"
   ]
  },
  {
   "cell_type": "code",
   "execution_count": 10,
   "metadata": {},
   "outputs": [],
   "source": [
    "ids_media = {}\n",
    "\n",
    "for file in os.listdir(\"data/chndm/\"):\n",
    "    if file == \"index.txt\":\n",
    "        continue\n",
    "    with open(\"data/chndm/\" + file) as ndjson:\n",
    "        for line in ndjson:\n",
    "            #data = ujson.loads(line)\n",
    "            data = json.loads(line)\n",
    "            desc = \"\"\n",
    "            media_ids = []\n",
    "            if 'content' in data:\n",
    "                if 'freetext' in data['content']:\n",
    "                    if 'notes' in data['content']['freetext']:\n",
    "                        for text in data['content']['freetext']['notes']:\n",
    "                            if text['label'] == \"Description\":\n",
    "                                if len(text['content']) > 120 and len(text['content']) < 400 and \" / \" not in text['content']:\n",
    "                                    desc = text['content']\n",
    "                if 'descriptiveNonRepeating' in data['content']:\n",
    "                    if 'online_media' in data['content']['descriptiveNonRepeating']:\n",
    "                        if 'media' in data['content']['descriptiveNonRepeating']['online_media']:\n",
    "                            if len(data['content']['descriptiveNonRepeating']['online_media']['media']) > 0:\n",
    "                                for media in data['content']['descriptiveNonRepeating']['online_media']['media']:\n",
    "                                    if media['type'] == \"Images\":\n",
    "                                        if media['usage']['access'] == \"CC0\":\n",
    "                                            if 'resources' in media:\n",
    "                                                for resource in media[\"resources\"]:\n",
    "                                                    if resource['label'] == \"High-resolution JPEG\":\n",
    "                                                        if resource['width'] > 1000 and resource['height'] > 1000:\n",
    "                                                            if f\"{media['idsId']}.jpg\" in files:\n",
    "                                                                media_ids.append(media['idsId'])\n",
    "            if desc != \"\" and len(media_ids) > 0:\n",
    "                ids_media[data[\"id\"]] = { \"desc\": desc, \"media\": media_ids[0]}\n"
   ]
  },
  {
   "cell_type": "code",
   "execution_count": 11,
   "metadata": {},
   "outputs": [
    {
     "name": "stdout",
     "output_type": "stream",
     "text": [
      "20138\n"
     ]
    }
   ],
   "source": [
    "print(len(ids_media))\n"
   ]
  },
  {
   "cell_type": "code",
   "execution_count": 12,
   "metadata": {},
   "outputs": [],
   "source": [
    "from sklearn.model_selection import train_test_split\n",
    "\n",
    "# Create a train/test split, with testing having 5k records\n",
    "ids_train, ids_test = train_test_split([[k,v['media'],v['desc']] for k,v in ids_media.items()], test_size=0.1)\n"
   ]
  },
  {
   "cell_type": "code",
   "execution_count": 13,
   "metadata": {},
   "outputs": [],
   "source": [
    "import pandas as pd\n",
    "\n",
    "pd.DataFrame(ids_train, columns=['id','media_id','description']).to_csv(\"ids_train.csv\")\n",
    "pd.DataFrame(ids_test, columns=['id','media_id','description']).to_csv(\"ids_test.csv\")\n"
   ]
  }
 ],
 "metadata": {
  "kernelspec": {
   "display_name": "Python 3",
   "language": "python",
   "name": "python3"
  },
  "language_info": {
   "codemirror_mode": {
    "name": "ipython",
    "version": 3
   },
   "file_extension": ".py",
   "mimetype": "text/x-python",
   "name": "python",
   "nbconvert_exporter": "python",
   "pygments_lexer": "ipython3",
   "version": "3.10.12"
  }
 },
 "nbformat": 4,
 "nbformat_minor": 2
}
